{
 "cells": [
  {
   "cell_type": "markdown",
   "metadata": {},
   "source": [
    "Import needed set of packages"
   ]
  },
  {
   "cell_type": "code",
   "execution_count": null,
   "metadata": {},
   "outputs": [],
   "source": [
    "import datetime\n",
    "import scipy\n",
    "import pandas as pd\n",
    "import matplotlib.pyplot as plt\n",
    "from tools import rednt_tools as tools  # custom helper tools library"
   ]
  },
  {
   "cell_type": "markdown",
   "metadata": {},
   "source": [
    "Read the data from the CSV files with timestamp as index column"
   ]
  },
  {
   "cell_type": "code",
   "execution_count": null,
   "metadata": {},
   "outputs": [],
   "source": [
    "v_df = pd.read_csv(tools.VIBRATION_FILENAME, sep=tools.SEP, header=None, names=tools.V_HEADER_NAMES,\n",
    "                   index_col=[0], parse_dates=[0], date_parser=tools.date_parser)\n",
    "\n",
    "t_df = pd.read_csv(tools.TEMPERATURE_FILENAME, sep=tools.SEP, header=None, names=tools.T_HEADER_NAMES,\n",
    "                   index_col=[0], parse_dates=[0], date_parser=tools.date_parser)"
   ]
  },
  {
   "cell_type": "markdown",
   "metadata": {},
   "source": [
    "Make sure that both of the data are sorted"
   ]
  },
  {
   "cell_type": "code",
   "execution_count": null,
   "metadata": {},
   "outputs": [],
   "source": [
    "v_df.sort_values(by='timestamp')\n",
    "t_df.sort_values(by='timestamp')"
   ]
  },
  {
   "cell_type": "markdown",
   "metadata": {},
   "source": [
    "Upsample the missing data with the NaNs"
   ]
  },
  {
   "cell_type": "code",
   "execution_count": null,
   "metadata": {},
   "outputs": [],
   "source": [
    "v_df = v_df.resample('{}s'.format(tools.SAMPLE_TIME_SEC)).mean()\n",
    "t_df = t_df.resample('{}s'.format(tools.SAMPLE_TIME_SEC)).mean()"
   ]
  },
  {
   "cell_type": "markdown",
   "metadata": {},
   "source": [
    "Merge dataframes based on the closest timestamp and limit to smallest length"
   ]
  },
  {
   "cell_type": "code",
   "execution_count": null,
   "metadata": {},
   "outputs": [],
   "source": [
    "merge_tolerance = datetime.timedelta(seconds=tools.SAMPLE_TIME_SEC)\n",
    "if len(v_df) > len(t_df):\n",
    "    df = pd.merge_asof(t_df, v_df, on='timestamp', tolerance=merge_tolerance)\n",
    "else:\n",
    "    df = pd.merge_asof(v_df, t_df, on='timestamp', tolerance=merge_tolerance)"
   ]
  },
  {
   "cell_type": "markdown",
   "metadata": {},
   "source": [
    "Plot the timeseries data"
   ]
  },
  {
   "cell_type": "code",
   "execution_count": null,
   "metadata": {},
   "outputs": [],
   "source": [
    "tools.plot_timeseries_data(df)"
   ]
  }
 ],
 "metadata": {
  "interpreter": {
   "hash": "cc790433a874869e0e619865f0d14cdf0639ffcd471a3c2d17dd0c72c1821ae4"
  },
  "kernelspec": {
   "display_name": "Python 3.8.3 ('rednt')",
   "language": "python",
   "name": "python3"
  },
  "language_info": {
   "codemirror_mode": {
    "name": "ipython",
    "version": 3
   },
   "file_extension": ".py",
   "mimetype": "text/x-python",
   "name": "python",
   "nbconvert_exporter": "python",
   "pygments_lexer": "ipython3",
   "version": "3.8.3"
  },
  "orig_nbformat": 4
 },
 "nbformat": 4,
 "nbformat_minor": 2
}
