{
 "cells": [
  {
   "cell_type": "markdown",
   "metadata": {},
   "source": [
    "Import needed set of packages."
   ]
  },
  {
   "cell_type": "code",
   "execution_count": 4,
   "metadata": {},
   "outputs": [],
   "source": [
    "import os\n",
    "import datetime\n",
    "import scipy\n",
    "import pandas as pd\n",
    "import matplotlib.pyplot as plt\n",
    "from tools import rednt_tools as tools  # custom helper tools library"
   ]
  },
  {
   "cell_type": "markdown",
   "metadata": {},
   "source": [
    "Next step in Markdown"
   ]
  },
  {
   "cell_type": "code",
   "execution_count": null,
   "metadata": {},
   "outputs": [],
   "source": [
    "v_df = pd.read_csv(tools.VIBRATION_FILENAME, sep=tools.SEP, header=None, names=tools.V_HEADER_NAMES,\n",
    "                   index_col=[0], parse_dates=[0], date_parser=tools.date_parser)\n",
    "\n",
    "t_df = pd.read_csv(tools.TEMPERATURE_FILENAME, sep=tools.SEP, header=None, names=tools.T_HEADER_NAMES,\n",
    "                   index_col=[0], parse_dates=[0], date_parser=tools.date_parser)"
   ]
  }
 ],
 "metadata": {
  "interpreter": {
   "hash": "cc790433a874869e0e619865f0d14cdf0639ffcd471a3c2d17dd0c72c1821ae4"
  },
  "kernelspec": {
   "display_name": "Python 3.8.3 ('rednt')",
   "language": "python",
   "name": "python3"
  },
  "language_info": {
   "codemirror_mode": {
    "name": "ipython",
    "version": 3
   },
   "file_extension": ".py",
   "mimetype": "text/x-python",
   "name": "python",
   "nbconvert_exporter": "python",
   "pygments_lexer": "ipython3",
   "version": "3.8.3"
  },
  "orig_nbformat": 4
 },
 "nbformat": 4,
 "nbformat_minor": 2
}
