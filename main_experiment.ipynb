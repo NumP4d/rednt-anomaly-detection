{
 "cells": [
  {
   "cell_type": "markdown",
   "metadata": {},
   "source": [
    "Import needed set of packages"
   ]
  },
  {
   "cell_type": "code",
   "execution_count": null,
   "metadata": {},
   "outputs": [],
   "source": [
    "import datetime\n",
    "import scipy\n",
    "import pandas as pd\n",
    "import matplotlib.pyplot as plt\n",
    "from tools import rednt_tools as tools  # custom helper tools library"
   ]
  },
  {
   "cell_type": "markdown",
   "metadata": {},
   "source": [
    "Read the data from the CSV files with timestamp as index column"
   ]
  },
  {
   "cell_type": "code",
   "execution_count": null,
   "metadata": {},
   "outputs": [],
   "source": [
    "v_df = pd.read_csv(tools.VIBRATION_FILENAME, sep=tools.SEP, header=None,\n",
    "                   names=tools.V_HEADER_NAMES, index_col=[0], parse_dates=[0],\n",
    "                   date_parser=tools.date_parser)\n",
    "\n",
    "t_df = pd.read_csv(tools.TEMPERATURE_FILENAME, sep=tools.SEP, header=None,\n",
    "                   names=tools.T_HEADER_NAMES, index_col=[0], parse_dates=[0],\n",
    "                   date_parser=tools.date_parser)"
   ]
  },
  {
   "cell_type": "markdown",
   "metadata": {},
   "source": [
    "Make sure that both of the data are sorted"
   ]
  },
  {
   "cell_type": "code",
   "execution_count": null,
   "metadata": {},
   "outputs": [],
   "source": [
    "v_df = v_df.sort_values(by='timestamp')\n",
    "t_df = t_df.sort_values(by='timestamp')"
   ]
  },
  {
   "cell_type": "markdown",
   "metadata": {},
   "source": [
    "Determine some timestamp characterstics - start time, end time and time horizon of signals"
   ]
  },
  {
   "cell_type": "code",
   "execution_count": null,
   "metadata": {},
   "outputs": [],
   "source": [
    "timestamp_chars = {\n",
    "    'vibration': {\n",
    "        'start': v_df.index.to_series()[0],\n",
    "        'end': v_df.index.to_series()[-1],\n",
    "        'horizon': v_df.index.to_series()[-1] - v_df.index.to_series()[0]\n",
    "    },\n",
    "    'temperature': {\n",
    "        'start': t_df.index.to_series()[0],\n",
    "        'end': t_df.index.to_series()[-1],\n",
    "        'horizon': t_df.index.to_series()[-1] - v_df.index.to_series()[0]\n",
    "    }\n",
    "}\n",
    "\n",
    "print(\"Timestamp characteristics:\")\n",
    "print(timestamp_chars)"
   ]
  },
  {
   "cell_type": "markdown",
   "metadata": {},
   "source": [
    "Calculate signal timestamp differences between samples and some statistics about it"
   ]
  },
  {
   "cell_type": "code",
   "execution_count": null,
   "metadata": {},
   "outputs": [],
   "source": [
    "v_timestamp_diff = v_df.index.to_series().diff()\n",
    "t_timestamp_diff = t_df.index.to_series().diff()\n",
    "\n",
    "timestamp_diff = pd.concat([v_timestamp_diff, t_timestamp_diff])\n",
    "timedelta_value_counts = timestamp_diff.value_counts()\n",
    "\n",
    "print('Timestamp differences:')\n",
    "print(timedelta_value_counts)\n",
    "\n",
    "timedelta_statistics = {\n",
    "    'mean': timestamp_diff.mean(),\n",
    "    'median': timestamp_diff.median(),\n",
    "    'mode': timestamp_diff.mode(),\n",
    "    'max': timestamp_diff.max(),\n",
    "    'min': timestamp_diff.min()\n",
    "}\n",
    "\n",
    "print('Timestamp differences statistics:')\n",
    "print(timedelta_statistics)"
   ]
  },
  {
   "cell_type": "markdown",
   "metadata": {},
   "source": [
    "Deduce sampling time with timedelta as the median from the diffs"
   ]
  },
  {
   "cell_type": "code",
   "execution_count": null,
   "metadata": {},
   "outputs": [],
   "source": [
    "timedelta = timedelta_statistics['median']\n",
    "\n",
    "print(\"Median Timedelta that we choose as sampling time: {}\".format(timedelta))\n",
    "sampling_time = timedelta"
   ]
  },
  {
   "cell_type": "markdown",
   "metadata": {},
   "source": [
    "Upsample the missing data with the NaNs"
   ]
  },
  {
   "cell_type": "code",
   "execution_count": null,
   "metadata": {},
   "outputs": [],
   "source": [
    "v_df = v_df.resample(sampling_time).mean()\n",
    "t_df = t_df.resample(sampling_time).mean()"
   ]
  },
  {
   "cell_type": "markdown",
   "metadata": {},
   "source": [
    "Merge dataframes based on the closest timestamp and limit to smallest length"
   ]
  },
  {
   "cell_type": "code",
   "execution_count": null,
   "metadata": {},
   "outputs": [],
   "source": [
    "merge_tolerance = sampling_time\n",
    "if len(v_df) > len(t_df):\n",
    "    df = pd.merge_asof(t_df, v_df, on='timestamp', tolerance=merge_tolerance)\n",
    "else:\n",
    "    df = pd.merge_asof(v_df, t_df, on='timestamp', tolerance=merge_tolerance)"
   ]
  },
  {
   "cell_type": "markdown",
   "metadata": {},
   "source": [
    "Plot the timeseries data"
   ]
  },
  {
   "cell_type": "code",
   "execution_count": null,
   "metadata": {},
   "outputs": [],
   "source": [
    "tools.plot_timeseries_data(df)"
   ]
  }
 ],
 "metadata": {
  "interpreter": {
   "hash": "cc790433a874869e0e619865f0d14cdf0639ffcd471a3c2d17dd0c72c1821ae4"
  },
  "kernelspec": {
   "display_name": "Python 3.8.3 ('rednt')",
   "language": "python",
   "name": "python3"
  },
  "language_info": {
   "codemirror_mode": {
    "name": "ipython",
    "version": 3
   },
   "file_extension": ".py",
   "mimetype": "text/x-python",
   "name": "python",
   "nbconvert_exporter": "python",
   "pygments_lexer": "ipython3",
   "version": "3.8.3"
  },
  "orig_nbformat": 4
 },
 "nbformat": 4,
 "nbformat_minor": 2
}
